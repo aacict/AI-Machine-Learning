{
 "cells": [
  {
   "cell_type": "code",
   "execution_count": 125,
   "metadata": {},
   "outputs": [
    {
     "name": "stdout",
     "output_type": "stream",
     "text": [
      "Requirement already satisfied: torch in c:\\users\\aacic\\anaconda3\\lib\\site-packages (2.2.1)\n",
      "Requirement already satisfied: filelock in c:\\users\\aacic\\anaconda3\\lib\\site-packages (from torch) (3.13.1)\n",
      "Requirement already satisfied: typing-extensions>=4.8.0 in c:\\users\\aacic\\anaconda3\\lib\\site-packages (from torch) (4.9.0)\n",
      "Requirement already satisfied: sympy in c:\\users\\aacic\\anaconda3\\lib\\site-packages (from torch) (1.12)\n",
      "Requirement already satisfied: networkx in c:\\users\\aacic\\anaconda3\\lib\\site-packages (from torch) (3.1)\n",
      "Requirement already satisfied: jinja2 in c:\\users\\aacic\\anaconda3\\lib\\site-packages (from torch) (3.1.3)\n",
      "Requirement already satisfied: fsspec in c:\\users\\aacic\\anaconda3\\lib\\site-packages (from torch) (2023.10.0)\n",
      "Requirement already satisfied: MarkupSafe>=2.0 in c:\\users\\aacic\\anaconda3\\lib\\site-packages (from jinja2->torch) (2.1.3)\n",
      "Requirement already satisfied: mpmath>=0.19 in c:\\users\\aacic\\anaconda3\\lib\\site-packages (from sympy->torch) (1.3.0)\n",
      "Note: you may need to restart the kernel to use updated packages.\n"
     ]
    }
   ],
   "source": [
    "%pip install torch"
   ]
  },
  {
   "cell_type": "markdown",
   "metadata": {},
   "source": [
    "### Importing necessary libraries:::::::::::::"
   ]
  },
  {
   "cell_type": "code",
   "execution_count": 126,
   "metadata": {},
   "outputs": [],
   "source": [
    "import numpy as np\n",
    "import pandas as pd\n",
    "import matplotlib.pyplot as plt\n",
    "import seaborn as sns\n",
    "from sklearn.preprocessing import StandardScaler\n",
    "from sklearn.model_selection import train_test_split\n",
    "import torch\n",
    "import torch.nn as nn\n",
    "import torch.optim as optim\n",
    "from torch.utils.data import TensorDataset, DataLoader\n",
    "from sklearn.metrics import accuracy_score, classification_report\n",
    "from imblearn.over_sampling import SMOTE"
   ]
  },
  {
   "cell_type": "markdown",
   "metadata": {},
   "source": [
    "## EDA and Preprocessing:::::::"
   ]
  },
  {
   "cell_type": "code",
   "execution_count": 127,
   "metadata": {},
   "outputs": [],
   "source": [
    "ccDataset = pd.read_csv(\"./data/CreditCardDataset.csv\")"
   ]
  },
  {
   "cell_type": "code",
   "execution_count": 128,
   "metadata": {},
   "outputs": [
    {
     "data": {
      "text/html": [
       "<div>\n",
       "<style scoped>\n",
       "    .dataframe tbody tr th:only-of-type {\n",
       "        vertical-align: middle;\n",
       "    }\n",
       "\n",
       "    .dataframe tbody tr th {\n",
       "        vertical-align: top;\n",
       "    }\n",
       "\n",
       "    .dataframe thead th {\n",
       "        text-align: right;\n",
       "    }\n",
       "</style>\n",
       "<table border=\"1\" class=\"dataframe\">\n",
       "  <thead>\n",
       "    <tr style=\"text-align: right;\">\n",
       "      <th></th>\n",
       "      <th>Time</th>\n",
       "      <th>V1</th>\n",
       "      <th>V2</th>\n",
       "      <th>V3</th>\n",
       "      <th>V4</th>\n",
       "      <th>V5</th>\n",
       "      <th>V6</th>\n",
       "      <th>V7</th>\n",
       "      <th>V8</th>\n",
       "      <th>V9</th>\n",
       "      <th>...</th>\n",
       "      <th>V21</th>\n",
       "      <th>V22</th>\n",
       "      <th>V23</th>\n",
       "      <th>V24</th>\n",
       "      <th>V25</th>\n",
       "      <th>V26</th>\n",
       "      <th>V27</th>\n",
       "      <th>V28</th>\n",
       "      <th>Amount</th>\n",
       "      <th>Class</th>\n",
       "    </tr>\n",
       "  </thead>\n",
       "  <tbody>\n",
       "    <tr>\n",
       "      <th>0</th>\n",
       "      <td>2.0</td>\n",
       "      <td>-1.158233</td>\n",
       "      <td>0.877737</td>\n",
       "      <td>1.548718</td>\n",
       "      <td>0.403034</td>\n",
       "      <td>-0.407193</td>\n",
       "      <td>0.095921</td>\n",
       "      <td>0.592941</td>\n",
       "      <td>-0.270533</td>\n",
       "      <td>0.817739</td>\n",
       "      <td>...</td>\n",
       "      <td>-0.009431</td>\n",
       "      <td>0.798278</td>\n",
       "      <td>-0.137458</td>\n",
       "      <td>0.141267</td>\n",
       "      <td>-0.206010</td>\n",
       "      <td>0.502292</td>\n",
       "      <td>0.219422</td>\n",
       "      <td>0.215153</td>\n",
       "      <td>69.99</td>\n",
       "      <td>0</td>\n",
       "    </tr>\n",
       "    <tr>\n",
       "      <th>1</th>\n",
       "      <td>2.0</td>\n",
       "      <td>-0.425966</td>\n",
       "      <td>0.960523</td>\n",
       "      <td>1.141109</td>\n",
       "      <td>-0.168252</td>\n",
       "      <td>0.420987</td>\n",
       "      <td>-0.029728</td>\n",
       "      <td>0.476201</td>\n",
       "      <td>0.260314</td>\n",
       "      <td>-0.568671</td>\n",
       "      <td>...</td>\n",
       "      <td>-0.208254</td>\n",
       "      <td>-0.559825</td>\n",
       "      <td>-0.026398</td>\n",
       "      <td>-0.371427</td>\n",
       "      <td>-0.232794</td>\n",
       "      <td>0.105915</td>\n",
       "      <td>0.253844</td>\n",
       "      <td>0.081080</td>\n",
       "      <td>3.67</td>\n",
       "      <td>0</td>\n",
       "    </tr>\n",
       "    <tr>\n",
       "      <th>2</th>\n",
       "      <td>7.0</td>\n",
       "      <td>-0.644269</td>\n",
       "      <td>1.417964</td>\n",
       "      <td>1.074380</td>\n",
       "      <td>-0.492199</td>\n",
       "      <td>0.948934</td>\n",
       "      <td>0.428118</td>\n",
       "      <td>1.120631</td>\n",
       "      <td>-3.807864</td>\n",
       "      <td>0.615375</td>\n",
       "      <td>...</td>\n",
       "      <td>1.943465</td>\n",
       "      <td>-1.015455</td>\n",
       "      <td>0.057504</td>\n",
       "      <td>-0.649709</td>\n",
       "      <td>-0.415267</td>\n",
       "      <td>-0.051634</td>\n",
       "      <td>-1.206921</td>\n",
       "      <td>-1.085339</td>\n",
       "      <td>40.80</td>\n",
       "      <td>0</td>\n",
       "    </tr>\n",
       "    <tr>\n",
       "      <th>3</th>\n",
       "      <td>11.0</td>\n",
       "      <td>1.069374</td>\n",
       "      <td>0.287722</td>\n",
       "      <td>0.828613</td>\n",
       "      <td>2.712520</td>\n",
       "      <td>-0.178398</td>\n",
       "      <td>0.337544</td>\n",
       "      <td>-0.096717</td>\n",
       "      <td>0.115982</td>\n",
       "      <td>-0.221083</td>\n",
       "      <td>...</td>\n",
       "      <td>-0.036876</td>\n",
       "      <td>0.074412</td>\n",
       "      <td>-0.071407</td>\n",
       "      <td>0.104744</td>\n",
       "      <td>0.548265</td>\n",
       "      <td>0.104094</td>\n",
       "      <td>0.021491</td>\n",
       "      <td>0.021293</td>\n",
       "      <td>27.50</td>\n",
       "      <td>0</td>\n",
       "    </tr>\n",
       "    <tr>\n",
       "      <th>4</th>\n",
       "      <td>12.0</td>\n",
       "      <td>-0.752417</td>\n",
       "      <td>0.345485</td>\n",
       "      <td>2.057323</td>\n",
       "      <td>-1.468643</td>\n",
       "      <td>-1.158394</td>\n",
       "      <td>-0.077850</td>\n",
       "      <td>-0.608581</td>\n",
       "      <td>0.003603</td>\n",
       "      <td>-0.436167</td>\n",
       "      <td>...</td>\n",
       "      <td>0.499625</td>\n",
       "      <td>1.353650</td>\n",
       "      <td>-0.256573</td>\n",
       "      <td>-0.065084</td>\n",
       "      <td>-0.039124</td>\n",
       "      <td>-0.087086</td>\n",
       "      <td>-0.180998</td>\n",
       "      <td>0.129394</td>\n",
       "      <td>15.99</td>\n",
       "      <td>0</td>\n",
       "    </tr>\n",
       "  </tbody>\n",
       "</table>\n",
       "<p>5 rows × 31 columns</p>\n",
       "</div>"
      ],
      "text/plain": [
       "   Time        V1        V2        V3        V4        V5        V6        V7  \\\n",
       "0   2.0 -1.158233  0.877737  1.548718  0.403034 -0.407193  0.095921  0.592941   \n",
       "1   2.0 -0.425966  0.960523  1.141109 -0.168252  0.420987 -0.029728  0.476201   \n",
       "2   7.0 -0.644269  1.417964  1.074380 -0.492199  0.948934  0.428118  1.120631   \n",
       "3  11.0  1.069374  0.287722  0.828613  2.712520 -0.178398  0.337544 -0.096717   \n",
       "4  12.0 -0.752417  0.345485  2.057323 -1.468643 -1.158394 -0.077850 -0.608581   \n",
       "\n",
       "         V8        V9  ...       V21       V22       V23       V24       V25  \\\n",
       "0 -0.270533  0.817739  ... -0.009431  0.798278 -0.137458  0.141267 -0.206010   \n",
       "1  0.260314 -0.568671  ... -0.208254 -0.559825 -0.026398 -0.371427 -0.232794   \n",
       "2 -3.807864  0.615375  ...  1.943465 -1.015455  0.057504 -0.649709 -0.415267   \n",
       "3  0.115982 -0.221083  ... -0.036876  0.074412 -0.071407  0.104744  0.548265   \n",
       "4  0.003603 -0.436167  ...  0.499625  1.353650 -0.256573 -0.065084 -0.039124   \n",
       "\n",
       "        V26       V27       V28  Amount  Class  \n",
       "0  0.502292  0.219422  0.215153   69.99      0  \n",
       "1  0.105915  0.253844  0.081080    3.67      0  \n",
       "2 -0.051634 -1.206921 -1.085339   40.80      0  \n",
       "3  0.104094  0.021491  0.021293   27.50      0  \n",
       "4 -0.087086 -0.180998  0.129394   15.99      0  \n",
       "\n",
       "[5 rows x 31 columns]"
      ]
     },
     "execution_count": 128,
     "metadata": {},
     "output_type": "execute_result"
    }
   ],
   "source": [
    "ccDataset.head()"
   ]
  },
  {
   "cell_type": "code",
   "execution_count": 129,
   "metadata": {},
   "outputs": [
    {
     "data": {
      "text/plain": [
       "(57355, 31)"
      ]
     },
     "execution_count": 129,
     "metadata": {},
     "output_type": "execute_result"
    }
   ],
   "source": [
    "ccDataset.shape"
   ]
  },
  {
   "cell_type": "code",
   "execution_count": 130,
   "metadata": {},
   "outputs": [
    {
     "data": {
      "text/html": [
       "<div>\n",
       "<style scoped>\n",
       "    .dataframe tbody tr th:only-of-type {\n",
       "        vertical-align: middle;\n",
       "    }\n",
       "\n",
       "    .dataframe tbody tr th {\n",
       "        vertical-align: top;\n",
       "    }\n",
       "\n",
       "    .dataframe thead th {\n",
       "        text-align: right;\n",
       "    }\n",
       "</style>\n",
       "<table border=\"1\" class=\"dataframe\">\n",
       "  <thead>\n",
       "    <tr style=\"text-align: right;\">\n",
       "      <th></th>\n",
       "      <th>Time</th>\n",
       "      <th>V1</th>\n",
       "      <th>V2</th>\n",
       "      <th>V3</th>\n",
       "      <th>V4</th>\n",
       "      <th>V5</th>\n",
       "      <th>V6</th>\n",
       "      <th>V7</th>\n",
       "      <th>V8</th>\n",
       "      <th>V9</th>\n",
       "      <th>...</th>\n",
       "      <th>V21</th>\n",
       "      <th>V22</th>\n",
       "      <th>V23</th>\n",
       "      <th>V24</th>\n",
       "      <th>V25</th>\n",
       "      <th>V26</th>\n",
       "      <th>V27</th>\n",
       "      <th>V28</th>\n",
       "      <th>Amount</th>\n",
       "      <th>Class</th>\n",
       "    </tr>\n",
       "  </thead>\n",
       "  <tbody>\n",
       "    <tr>\n",
       "      <th>count</th>\n",
       "      <td>57355.000000</td>\n",
       "      <td>57355.000000</td>\n",
       "      <td>57355.000000</td>\n",
       "      <td>57355.000000</td>\n",
       "      <td>57355.000000</td>\n",
       "      <td>57355.000000</td>\n",
       "      <td>57355.000000</td>\n",
       "      <td>57355.000000</td>\n",
       "      <td>57355.000000</td>\n",
       "      <td>57355.000000</td>\n",
       "      <td>...</td>\n",
       "      <td>57355.000000</td>\n",
       "      <td>57355.000000</td>\n",
       "      <td>57355.000000</td>\n",
       "      <td>57355.000000</td>\n",
       "      <td>57355.000000</td>\n",
       "      <td>57355.000000</td>\n",
       "      <td>57355.000000</td>\n",
       "      <td>57355.000000</td>\n",
       "      <td>57355.000000</td>\n",
       "      <td>57355.000000</td>\n",
       "    </tr>\n",
       "    <tr>\n",
       "      <th>mean</th>\n",
       "      <td>94577.357074</td>\n",
       "      <td>-0.029092</td>\n",
       "      <td>0.030156</td>\n",
       "      <td>-0.055749</td>\n",
       "      <td>0.035521</td>\n",
       "      <td>-0.022664</td>\n",
       "      <td>-0.006869</td>\n",
       "      <td>-0.032448</td>\n",
       "      <td>0.006142</td>\n",
       "      <td>-0.017667</td>\n",
       "      <td>...</td>\n",
       "      <td>0.005569</td>\n",
       "      <td>-0.000265</td>\n",
       "      <td>0.003273</td>\n",
       "      <td>0.001159</td>\n",
       "      <td>0.005003</td>\n",
       "      <td>0.003133</td>\n",
       "      <td>0.000226</td>\n",
       "      <td>-0.000625</td>\n",
       "      <td>88.825575</td>\n",
       "      <td>0.008578</td>\n",
       "    </tr>\n",
       "    <tr>\n",
       "      <th>std</th>\n",
       "      <td>47505.713234</td>\n",
       "      <td>2.061391</td>\n",
       "      <td>1.711228</td>\n",
       "      <td>1.733364</td>\n",
       "      <td>1.484621</td>\n",
       "      <td>1.508300</td>\n",
       "      <td>1.361819</td>\n",
       "      <td>1.504317</td>\n",
       "      <td>1.334058</td>\n",
       "      <td>1.131679</td>\n",
       "      <td>...</td>\n",
       "      <td>0.813950</td>\n",
       "      <td>0.734597</td>\n",
       "      <td>0.625238</td>\n",
       "      <td>0.604653</td>\n",
       "      <td>0.519852</td>\n",
       "      <td>0.482496</td>\n",
       "      <td>0.433713</td>\n",
       "      <td>0.323980</td>\n",
       "      <td>279.496913</td>\n",
       "      <td>0.092221</td>\n",
       "    </tr>\n",
       "    <tr>\n",
       "      <th>min</th>\n",
       "      <td>2.000000</td>\n",
       "      <td>-36.802320</td>\n",
       "      <td>-63.344698</td>\n",
       "      <td>-48.325589</td>\n",
       "      <td>-5.519697</td>\n",
       "      <td>-113.743307</td>\n",
       "      <td>-19.996349</td>\n",
       "      <td>-43.557242</td>\n",
       "      <td>-73.216718</td>\n",
       "      <td>-13.434066</td>\n",
       "      <td>...</td>\n",
       "      <td>-34.830382</td>\n",
       "      <td>-10.933144</td>\n",
       "      <td>-32.828995</td>\n",
       "      <td>-2.822384</td>\n",
       "      <td>-8.696627</td>\n",
       "      <td>-2.534330</td>\n",
       "      <td>-8.878665</td>\n",
       "      <td>-15.430084</td>\n",
       "      <td>0.000000</td>\n",
       "      <td>0.000000</td>\n",
       "    </tr>\n",
       "    <tr>\n",
       "      <th>25%</th>\n",
       "      <td>53943.500000</td>\n",
       "      <td>-0.927615</td>\n",
       "      <td>-0.588747</td>\n",
       "      <td>-0.922554</td>\n",
       "      <td>-0.839400</td>\n",
       "      <td>-0.692157</td>\n",
       "      <td>-0.774796</td>\n",
       "      <td>-0.558211</td>\n",
       "      <td>-0.207145</td>\n",
       "      <td>-0.651869</td>\n",
       "      <td>...</td>\n",
       "      <td>-0.226932</td>\n",
       "      <td>-0.541278</td>\n",
       "      <td>-0.161812</td>\n",
       "      <td>-0.354648</td>\n",
       "      <td>-0.312164</td>\n",
       "      <td>-0.322536</td>\n",
       "      <td>-0.070642</td>\n",
       "      <td>-0.052695</td>\n",
       "      <td>5.475000</td>\n",
       "      <td>0.000000</td>\n",
       "    </tr>\n",
       "    <tr>\n",
       "      <th>50%</th>\n",
       "      <td>84641.000000</td>\n",
       "      <td>0.015980</td>\n",
       "      <td>0.071801</td>\n",
       "      <td>0.168619</td>\n",
       "      <td>-0.005637</td>\n",
       "      <td>-0.055913</td>\n",
       "      <td>-0.276163</td>\n",
       "      <td>0.035797</td>\n",
       "      <td>0.024380</td>\n",
       "      <td>-0.053373</td>\n",
       "      <td>...</td>\n",
       "      <td>-0.028379</td>\n",
       "      <td>0.004681</td>\n",
       "      <td>-0.011439</td>\n",
       "      <td>0.041286</td>\n",
       "      <td>0.021494</td>\n",
       "      <td>-0.049135</td>\n",
       "      <td>0.000859</td>\n",
       "      <td>0.011169</td>\n",
       "      <td>21.990000</td>\n",
       "      <td>0.000000</td>\n",
       "    </tr>\n",
       "    <tr>\n",
       "      <th>75%</th>\n",
       "      <td>139140.000000</td>\n",
       "      <td>1.314129</td>\n",
       "      <td>0.815413</td>\n",
       "      <td>1.019384</td>\n",
       "      <td>0.764271</td>\n",
       "      <td>0.607021</td>\n",
       "      <td>0.387408</td>\n",
       "      <td>0.562758</td>\n",
       "      <td>0.333358</td>\n",
       "      <td>0.599522</td>\n",
       "      <td>...</td>\n",
       "      <td>0.190245</td>\n",
       "      <td>0.529286</td>\n",
       "      <td>0.147282</td>\n",
       "      <td>0.439244</td>\n",
       "      <td>0.352590</td>\n",
       "      <td>0.243882</td>\n",
       "      <td>0.091355</td>\n",
       "      <td>0.078500</td>\n",
       "      <td>76.900000</td>\n",
       "      <td>0.000000</td>\n",
       "    </tr>\n",
       "    <tr>\n",
       "      <th>max</th>\n",
       "      <td>172777.000000</td>\n",
       "      <td>2.454930</td>\n",
       "      <td>22.057729</td>\n",
       "      <td>3.940337</td>\n",
       "      <td>16.715537</td>\n",
       "      <td>28.762671</td>\n",
       "      <td>73.301626</td>\n",
       "      <td>120.589494</td>\n",
       "      <td>20.007208</td>\n",
       "      <td>10.348407</td>\n",
       "      <td>...</td>\n",
       "      <td>27.202839</td>\n",
       "      <td>10.503090</td>\n",
       "      <td>22.528412</td>\n",
       "      <td>4.584549</td>\n",
       "      <td>5.826159</td>\n",
       "      <td>3.517346</td>\n",
       "      <td>31.612198</td>\n",
       "      <td>15.866721</td>\n",
       "      <td>25691.160000</td>\n",
       "      <td>1.000000</td>\n",
       "    </tr>\n",
       "  </tbody>\n",
       "</table>\n",
       "<p>8 rows × 31 columns</p>\n",
       "</div>"
      ],
      "text/plain": [
       "                Time            V1            V2            V3            V4  \\\n",
       "count   57355.000000  57355.000000  57355.000000  57355.000000  57355.000000   \n",
       "mean    94577.357074     -0.029092      0.030156     -0.055749      0.035521   \n",
       "std     47505.713234      2.061391      1.711228      1.733364      1.484621   \n",
       "min         2.000000    -36.802320    -63.344698    -48.325589     -5.519697   \n",
       "25%     53943.500000     -0.927615     -0.588747     -0.922554     -0.839400   \n",
       "50%     84641.000000      0.015980      0.071801      0.168619     -0.005637   \n",
       "75%    139140.000000      1.314129      0.815413      1.019384      0.764271   \n",
       "max    172777.000000      2.454930     22.057729      3.940337     16.715537   \n",
       "\n",
       "                 V5            V6            V7            V8            V9  \\\n",
       "count  57355.000000  57355.000000  57355.000000  57355.000000  57355.000000   \n",
       "mean      -0.022664     -0.006869     -0.032448      0.006142     -0.017667   \n",
       "std        1.508300      1.361819      1.504317      1.334058      1.131679   \n",
       "min     -113.743307    -19.996349    -43.557242    -73.216718    -13.434066   \n",
       "25%       -0.692157     -0.774796     -0.558211     -0.207145     -0.651869   \n",
       "50%       -0.055913     -0.276163      0.035797      0.024380     -0.053373   \n",
       "75%        0.607021      0.387408      0.562758      0.333358      0.599522   \n",
       "max       28.762671     73.301626    120.589494     20.007208     10.348407   \n",
       "\n",
       "       ...           V21           V22           V23           V24  \\\n",
       "count  ...  57355.000000  57355.000000  57355.000000  57355.000000   \n",
       "mean   ...      0.005569     -0.000265      0.003273      0.001159   \n",
       "std    ...      0.813950      0.734597      0.625238      0.604653   \n",
       "min    ...    -34.830382    -10.933144    -32.828995     -2.822384   \n",
       "25%    ...     -0.226932     -0.541278     -0.161812     -0.354648   \n",
       "50%    ...     -0.028379      0.004681     -0.011439      0.041286   \n",
       "75%    ...      0.190245      0.529286      0.147282      0.439244   \n",
       "max    ...     27.202839     10.503090     22.528412      4.584549   \n",
       "\n",
       "                V25           V26           V27           V28        Amount  \\\n",
       "count  57355.000000  57355.000000  57355.000000  57355.000000  57355.000000   \n",
       "mean       0.005003      0.003133      0.000226     -0.000625     88.825575   \n",
       "std        0.519852      0.482496      0.433713      0.323980    279.496913   \n",
       "min       -8.696627     -2.534330     -8.878665    -15.430084      0.000000   \n",
       "25%       -0.312164     -0.322536     -0.070642     -0.052695      5.475000   \n",
       "50%        0.021494     -0.049135      0.000859      0.011169     21.990000   \n",
       "75%        0.352590      0.243882      0.091355      0.078500     76.900000   \n",
       "max        5.826159      3.517346     31.612198     15.866721  25691.160000   \n",
       "\n",
       "              Class  \n",
       "count  57355.000000  \n",
       "mean       0.008578  \n",
       "std        0.092221  \n",
       "min        0.000000  \n",
       "25%        0.000000  \n",
       "50%        0.000000  \n",
       "75%        0.000000  \n",
       "max        1.000000  \n",
       "\n",
       "[8 rows x 31 columns]"
      ]
     },
     "execution_count": 130,
     "metadata": {},
     "output_type": "execute_result"
    }
   ],
   "source": [
    "ccDataset.describe()"
   ]
  },
  {
   "cell_type": "code",
   "execution_count": 131,
   "metadata": {},
   "outputs": [
    {
     "name": "stdout",
     "output_type": "stream",
     "text": [
      "<class 'pandas.core.frame.DataFrame'>\n",
      "RangeIndex: 57355 entries, 0 to 57354\n",
      "Data columns (total 31 columns):\n",
      " #   Column  Non-Null Count  Dtype  \n",
      "---  ------  --------------  -----  \n",
      " 0   Time    57355 non-null  float64\n",
      " 1   V1      57355 non-null  float64\n",
      " 2   V2      57355 non-null  float64\n",
      " 3   V3      57355 non-null  float64\n",
      " 4   V4      57355 non-null  float64\n",
      " 5   V5      57355 non-null  float64\n",
      " 6   V6      57355 non-null  float64\n",
      " 7   V7      57355 non-null  float64\n",
      " 8   V8      57355 non-null  float64\n",
      " 9   V9      57355 non-null  float64\n",
      " 10  V10     57355 non-null  float64\n",
      " 11  V11     57355 non-null  float64\n",
      " 12  V12     57355 non-null  float64\n",
      " 13  V13     57355 non-null  float64\n",
      " 14  V14     57355 non-null  float64\n",
      " 15  V15     57355 non-null  float64\n",
      " 16  V16     57355 non-null  float64\n",
      " 17  V17     57355 non-null  float64\n",
      " 18  V18     57355 non-null  float64\n",
      " 19  V19     57355 non-null  float64\n",
      " 20  V20     57355 non-null  float64\n",
      " 21  V21     57355 non-null  float64\n",
      " 22  V22     57355 non-null  float64\n",
      " 23  V23     57355 non-null  float64\n",
      " 24  V24     57355 non-null  float64\n",
      " 25  V25     57355 non-null  float64\n",
      " 26  V26     57355 non-null  float64\n",
      " 27  V27     57355 non-null  float64\n",
      " 28  V28     57355 non-null  float64\n",
      " 29  Amount  57355 non-null  float64\n",
      " 30  Class   57355 non-null  int64  \n",
      "dtypes: float64(30), int64(1)\n",
      "memory usage: 13.6 MB\n"
     ]
    }
   ],
   "source": [
    "ccDataset.info()"
   ]
  },
  {
   "cell_type": "markdown",
   "metadata": {},
   "source": [
    "##### We have Class as the target and other as the features for fraud detection."
   ]
  },
  {
   "cell_type": "code",
   "execution_count": 132,
   "metadata": {},
   "outputs": [
    {
     "data": {
      "text/plain": [
       "array([0, 1], dtype=int64)"
      ]
     },
     "execution_count": 132,
     "metadata": {},
     "output_type": "execute_result"
    }
   ],
   "source": [
    "ccDataset['Class'].unique()"
   ]
  },
  {
   "cell_type": "markdown",
   "metadata": {},
   "source": [
    "##### We have two class 1 and 0 as fraud and non-fraud, this is binary classification problem."
   ]
  },
  {
   "cell_type": "code",
   "execution_count": 133,
   "metadata": {},
   "outputs": [
    {
     "data": {
      "text/plain": [
       "Time      0\n",
       "V1        0\n",
       "V2        0\n",
       "V3        0\n",
       "V4        0\n",
       "V5        0\n",
       "V6        0\n",
       "V7        0\n",
       "V8        0\n",
       "V9        0\n",
       "V10       0\n",
       "V11       0\n",
       "V12       0\n",
       "V13       0\n",
       "V14       0\n",
       "V15       0\n",
       "V16       0\n",
       "V17       0\n",
       "V18       0\n",
       "V19       0\n",
       "V20       0\n",
       "V21       0\n",
       "V22       0\n",
       "V23       0\n",
       "V24       0\n",
       "V25       0\n",
       "V26       0\n",
       "V27       0\n",
       "V28       0\n",
       "Amount    0\n",
       "Class     0\n",
       "dtype: int64"
      ]
     },
     "execution_count": 133,
     "metadata": {},
     "output_type": "execute_result"
    }
   ],
   "source": [
    "ccDataset.isnull().sum()"
   ]
  },
  {
   "cell_type": "code",
   "execution_count": 134,
   "metadata": {},
   "outputs": [
    {
     "data": {
      "image/png": "[encoded data removed]",
      "text/plain": [
       "<Figure size 640x480 with 1 Axes>"
      ]
     },
     "metadata": {},
     "output_type": "display_data"
    }
   ],
   "source": [
    "# Checking the total fraud and non fraud data:::::::::::::\n",
    "plt.hist(ccDataset['Class'], bins=30, color='skyblue', edgecolor='black')\n",
    "plt.xlabel('Values')\n",
    "plt.ylabel('Frequency')\n",
    "plt.title('Histogram of the Dataset')\n",
    "plt.show()"
   ]
  },
  {
   "cell_type": "markdown",
   "metadata": {},
   "source": [
    "#### from the histogram above, we can see that the frequency of the 0 i.e. non fraud is very very high which means our detection will be baised towards non fraud if we use data like this, so we have to balance this."
   ]
  },
  {
   "cell_type": "code",
   "execution_count": 135,
   "metadata": {},
   "outputs": [],
   "source": [
    "X = ccDataset.drop('Class', axis=1)\n",
    "y = ccDataset['Class']\n",
    "\n",
    "X_train, X_test, y_train, y_test = train_test_split(X, y, test_size=0.2, random_state=42)\n",
    "\n",
    "# Applying SMOTE to oversample the minority class:::::\n",
    "smote = SMOTE(random_state=42)\n",
    "X_train_smote, y_train_smote = smote.fit_resample(X_train, y_train)"
   ]
  },
  {
   "cell_type": "code",
   "execution_count": 136,
   "metadata": {},
   "outputs": [
    {
     "data": {
      "image/png": "[encoded data removed]",
      "text/plain": [
       "<Figure size 640x480 with 1 Axes>"
      ]
     },
     "metadata": {},
     "output_type": "display_data"
    }
   ],
   "source": [
    "# Checking if the class is balanced or not::::\n",
    "plt.hist(y_train_smote, bins=30, color='skyblue', edgecolor='black')\n",
    "plt.xlabel('Values')\n",
    "plt.ylabel('Frequency')\n",
    "plt.title('Histogram of the Dataset')\n",
    "plt.show()"
   ]
  },
  {
   "cell_type": "code",
   "execution_count": 137,
   "metadata": {},
   "outputs": [],
   "source": [
    "scaler = StandardScaler()\n",
    "X_train_smote_scaled = scaler.fit_transform(X_train_smote)\n",
    "X_test_scaled = scaler.transform(X_test)"
   ]
  },
  {
   "cell_type": "markdown",
   "metadata": {},
   "source": [
    "## Implementing a Neural Network using PyTorch::::"
   ]
  },
  {
   "cell_type": "code",
   "execution_count": 138,
   "metadata": {},
   "outputs": [],
   "source": [
    "X_train_tensor = torch.tensor(X_train_smote_scaled, dtype=torch.float32)\n",
    "y_train_tensor = torch.tensor(y_train_smote.values, dtype=torch.float32)\n",
    "X_test_tensor = torch.tensor(X_test_scaled, dtype=torch.float32)\n",
    "y_test_tensor = torch.tensor(y_test.values, dtype=torch.float32)"
   ]
  },
  {
   "cell_type": "code",
   "execution_count": 139,
   "metadata": {},
   "outputs": [],
   "source": [
    "# Define the neural network model\n",
    "class NeuralNetwork(nn.Module):\n",
    "    def __init__(self, input_size):\n",
    "        super(NeuralNetwork, self).__init__()\n",
    "        self.fc1 = nn.Linear(input_size, 64)\n",
    "        self.fc2 = nn.Linear(64, 32)\n",
    "        self.fc3 = nn.Linear(32, 1)\n",
    "        self.relu = nn.ReLU()\n",
    "        self.sigmoid = nn.Sigmoid()\n",
    "\n",
    "    def forward(self, x):\n",
    "        x = self.relu(self.fc1(x))\n",
    "        x = self.relu(self.fc2(x))\n",
    "        x = self.sigmoid(self.fc3(x))\n",
    "        return x\n",
    "\n"
   ]
  },
  {
   "cell_type": "code",
   "execution_count": 140,
   "metadata": {},
   "outputs": [],
   "source": [
    "# Initialize the model, loss function, and optimizer\n",
    "model = NeuralNetwork(input_size=X_train.shape[1])\n",
    "criterion = nn.BCELoss()\n",
    "optimizer = optim.Adam(model.parameters(), lr=0.001)"
   ]
  },
  {
   "cell_type": "code",
   "execution_count": 146,
   "metadata": {},
   "outputs": [
    {
     "name": "stdout",
     "output_type": "stream",
     "text": [
      "Epoch 1/50, Training Loss: 0.45883092284202576, validation Loss: 0.435574471950531, Training Accuracy: 0.9072966375651486, validation Accuracy: 0.9927643623049429\n",
      "Epoch 2/50, Training Loss: 0.44778555631637573, validation Loss: 0.4242367744445801, Training Accuracy: 0.908143293822708, validation Accuracy: 0.9929387150204865\n",
      "Epoch 3/50, Training Loss: 0.4367332458496094, validation Loss: 0.4126681983470917, Training Accuracy: 0.9087260572207684, validation Accuracy: 0.9928515386627147\n",
      "Epoch 4/50, Training Loss: 0.42570608854293823, validation Loss: 0.40089643001556396, Training Accuracy: 0.9092098607965167, validation Accuracy: 0.9927643623049429\n",
      "Epoch 5/50, Training Loss: 0.4147379994392395, validation Loss: 0.38894858956336975, Training Accuracy: 0.9099685527675764, validation Accuracy: 0.9928515386627147\n",
      "Epoch 6/50, Training Loss: 0.40387028455734253, validation Loss: 0.37685495615005493, Training Accuracy: 0.9104963384865744, validation Accuracy: 0.9928515386627147\n",
      "Epoch 7/50, Training Loss: 0.3931346833705902, validation Loss: 0.3646644651889801, Training Accuracy: 0.91101312866976, validation Accuracy: 0.9928515386627147\n",
      "Epoch 8/50, Training Loss: 0.3825615346431732, validation Loss: 0.3524205684661865, Training Accuracy: 0.9116398742110703, validation Accuracy: 0.9927643623049429\n",
      "Epoch 9/50, Training Loss: 0.37218043208122253, validation Loss: 0.3401769697666168, Training Accuracy: 0.9121456688584435, validation Accuracy: 0.9928515386627147\n",
      "Epoch 10/50, Training Loss: 0.36201632022857666, validation Loss: 0.3279839754104614, Training Accuracy: 0.9127174367206914, validation Accuracy: 0.9928515386627147\n",
      "Epoch 11/50, Training Loss: 0.3520849049091339, validation Loss: 0.3158838450908661, Training Accuracy: 0.913377168869439, validation Accuracy: 0.9927643623049429\n",
      "Epoch 12/50, Training Loss: 0.34239915013313293, validation Loss: 0.303923100233078, Training Accuracy: 0.9140039144107492, validation Accuracy: 0.9927643623049429\n",
      "Epoch 13/50, Training Loss: 0.33297187089920044, validation Loss: 0.29214441776275635, Training Accuracy: 0.9147516108459965, validation Accuracy: 0.9926771859471711\n",
      "Epoch 14/50, Training Loss: 0.3238157033920288, validation Loss: 0.2805866599082947, Training Accuracy: 0.9154443296021815, validation Accuracy: 0.9926771859471711\n",
      "Epoch 15/50, Training Loss: 0.31493881344795227, validation Loss: 0.2692893147468567, Training Accuracy: 0.9160160974644295, validation Accuracy: 0.9925900095893994\n",
      "Epoch 16/50, Training Loss: 0.306348979473114, validation Loss: 0.25829017162323, Training Accuracy: 0.9167967805071141, validation Accuracy: 0.9924156568738558\n",
      "Epoch 17/50, Training Loss: 0.29805320501327515, validation Loss: 0.24762314558029175, Training Accuracy: 0.9175114903349241, validation Accuracy: 0.9924156568738558\n",
      "Epoch 18/50, Training Loss: 0.2900553345680237, validation Loss: 0.23731930553913116, Training Accuracy: 0.9182591867701713, validation Accuracy: 0.9924156568738558\n",
      "Epoch 19/50, Training Loss: 0.28235888481140137, validation Loss: 0.22740595042705536, Training Accuracy: 0.9189519055263563, validation Accuracy: 0.992328480516084\n",
      "Epoch 20/50, Training Loss: 0.27496469020843506, validation Loss: 0.21790918707847595, Training Accuracy: 0.9196996019616036, validation Accuracy: 0.992328480516084\n",
      "Epoch 21/50, Training Loss: 0.2678699195384979, validation Loss: 0.20884914696216583, Training Accuracy: 0.9203483385745387, validation Accuracy: 0.992328480516084\n",
      "Epoch 22/50, Training Loss: 0.26106998324394226, validation Loss: 0.20024162530899048, Training Accuracy: 0.9213049501902227, validation Accuracy: 0.9921541278005405\n",
      "Epoch 23/50, Training Loss: 0.2545584738254547, validation Loss: 0.19209997355937958, Training Accuracy: 0.9221516064477822, validation Accuracy: 0.9921541278005405\n",
      "Epoch 24/50, Training Loss: 0.24832618236541748, validation Loss: 0.1844334602355957, Training Accuracy: 0.9228003430607173, validation Accuracy: 0.9921541278005405\n",
      "Epoch 25/50, Training Loss: 0.24236565828323364, validation Loss: 0.17724426090717316, Training Accuracy: 0.9236469993182768, validation Accuracy: 0.9921541278005405\n",
      "Epoch 26/50, Training Loss: 0.23666691780090332, validation Loss: 0.17053313553333282, Training Accuracy: 0.9245156466474611, validation Accuracy: 0.9921541278005405\n",
      "Epoch 27/50, Training Loss: 0.23121634125709534, validation Loss: 0.16429729759693146, Training Accuracy: 0.9253842939766455, validation Accuracy: 0.9919797750849969\n",
      "Epoch 28/50, Training Loss: 0.22600394487380981, validation Loss: 0.1585291475057602, Training Accuracy: 0.9263628966639544, validation Accuracy: 0.9919797750849969\n",
      "Epoch 29/50, Training Loss: 0.22101633250713348, validation Loss: 0.15321780741214752, Training Accuracy: 0.9270886020275768, validation Accuracy: 0.9918925987272251\n",
      "Epoch 30/50, Training Loss: 0.21624048054218292, validation Loss: 0.14835068583488464, Training Accuracy: 0.9280122270358234, validation Accuracy: 0.9918054223694533\n",
      "Epoch 31/50, Training Loss: 0.21166835725307465, validation Loss: 0.14390482008457184, Training Accuracy: 0.9287599234710707, validation Accuracy: 0.9919797750849969\n",
      "Epoch 32/50, Training Loss: 0.20728814601898193, validation Loss: 0.13985426723957062, Training Accuracy: 0.9296835484793174, validation Accuracy: 0.9918054223694533\n",
      "Epoch 33/50, Training Loss: 0.2030898630619049, validation Loss: 0.13616786897182465, Training Accuracy: 0.9307940975963759, validation Accuracy: 0.9918054223694533\n",
      "Epoch 34/50, Training Loss: 0.19906410574913025, validation Loss: 0.1328173279762268, Training Accuracy: 0.9319596243924967, validation Accuracy: 0.9917182460116817\n",
      "Epoch 35/50, Training Loss: 0.19519871473312378, validation Loss: 0.1297704577445984, Training Accuracy: 0.9333340663690541, validation Accuracy: 0.9915438932961381\n",
      "Epoch 36/50, Training Loss: 0.1914859265089035, validation Loss: 0.1269976645708084, Training Accuracy: 0.934499593165175, validation Accuracy: 0.9913695405805946\n",
      "Epoch 37/50, Training Loss: 0.18791383504867554, validation Loss: 0.12447062134742737, Training Accuracy: 0.9357310931761704, validation Accuracy: 0.9911080115072792\n",
      "Epoch 38/50, Training Loss: 0.18447540700435638, validation Loss: 0.12216176837682724, Training Accuracy: 0.9366217315769797, validation Accuracy: 0.9909336587917357\n",
      "Epoch 39/50, Training Loss: 0.18116360902786255, validation Loss: 0.12004821002483368, Training Accuracy: 0.9378312405163504, validation Accuracy: 0.9905849533606486\n",
      "Epoch 40/50, Training Loss: 0.17797264456748962, validation Loss: 0.11810566484928131, Training Accuracy: 0.9389417896334088, validation Accuracy: 0.9906721297184203\n",
      "Epoch 41/50, Training Loss: 0.17489944398403168, validation Loss: 0.11630932986736298, Training Accuracy: 0.9402282673234666, validation Accuracy: 0.9902362479295616\n",
      "Epoch 42/50, Training Loss: 0.1719362735748291, validation Loss: 0.11463727056980133, Training Accuracy: 0.9412288610824006, validation Accuracy: 0.9898875424984744\n",
      "Epoch 43/50, Training Loss: 0.16908146440982819, validation Loss: 0.11307114362716675, Training Accuracy: 0.942460361093396, validation Accuracy: 0.990061895214018\n",
      "Epoch 44/50, Training Loss: 0.1663275808095932, validation Loss: 0.11159500479698181, Training Accuracy: 0.9435929012820795, validation Accuracy: 0.9898875424984744\n",
      "Epoch 45/50, Training Loss: 0.16367115080356598, validation Loss: 0.11019085347652435, Training Accuracy: 0.9446264816484508, validation Accuracy: 0.9899747188562462\n",
      "Epoch 46/50, Training Loss: 0.1611073911190033, validation Loss: 0.10884160548448563, Training Accuracy: 0.9456050843357596, validation Accuracy: 0.9899747188562462\n",
      "Epoch 47/50, Training Loss: 0.15863128006458282, validation Loss: 0.10753368586301804, Training Accuracy: 0.9464407450575066, validation Accuracy: 0.9898003661407027\n",
      "Epoch 48/50, Training Loss: 0.15623711049556732, validation Loss: 0.10625787079334259, Training Accuracy: 0.947166450421129, validation Accuracy: 0.9897131897829309\n",
      "Epoch 49/50, Training Loss: 0.15392103791236877, validation Loss: 0.10501030087471008, Training Accuracy: 0.9482440129307501, validation Accuracy: 0.9898003661407027\n",
      "Epoch 50/50, Training Loss: 0.15168029069900513, validation Loss: 0.10378885269165039, Training Accuracy: 0.9489807138301849, validation Accuracy: 0.9896260134251591\n"
     ]
    }
   ],
   "source": [
    "train_losses = []\n",
    "test_losses = []\n",
    "train_accuracies = []\n",
    "test_accuracies = []\n",
    "\n",
    "# Training the model\n",
    "epochs = 50\n",
    "for epoch in range(epochs):\n",
    "    # Training\n",
    "    model.train()\n",
    "    optimizer.zero_grad()\n",
    "    outputs = model(X_train_tensor)\n",
    "    train_loss = criterion(outputs, y_train_tensor.view(-1, 1))\n",
    "    train_loss.backward()\n",
    "    optimizer.step()\n",
    "    train_losses.append(train_loss.item())\n",
    "    \n",
    "    # Validation\n",
    "    model.eval()\n",
    "    with torch.no_grad():\n",
    "        test_outputs = model(X_test_tensor)\n",
    "        test_loss = criterion(test_outputs, y_test_tensor.view(-1, 1))\n",
    "        test_losses.append(test_loss.item())\n",
    "        \n",
    "        # Compute accuracy\n",
    "        train_pred = torch.round(outputs)\n",
    "        train_accuracy = accuracy_score(y_train_tensor, train_pred)\n",
    "        train_accuracies.append(train_accuracy)\n",
    "        \n",
    "        test_pred = torch.round(test_outputs)\n",
    "        test_accuracy = accuracy_score(y_test_tensor, test_pred)\n",
    "        test_accuracies.append(test_accuracy)\n",
    "\n",
    "    print(f'Epoch {epoch + 1}/{epochs}, Training Loss: {train_loss.item()}, validation Loss: {test_loss.item()}, Training Accuracy: {train_accuracy}, validation Accuracy: {test_accuracy}')\n"
   ]
  },
  {
   "cell_type": "markdown",
   "metadata": {},
   "source": [
    "### Plot training loss and validation loss"
   ]
  },
  {
   "cell_type": "code",
   "execution_count": 147,
   "metadata": {},
   "outputs": [
    {
     "data": {
      "image/png": "[encoded data removed]",
      "text/plain": [
       "<Figure size 1000x500 with 1 Axes>"
      ]
     },
     "metadata": {},
     "output_type": "display_data"
    }
   ],
   "source": [
    "# Plotting training and validation losses\n",
    "plt.figure(figsize=(10, 5))\n",
    "plt.plot(range(1, epochs + 1), train_losses, label='Training Loss')\n",
    "plt.plot(range(1, epochs + 1), test_losses, label='Validation Loss')\n",
    "plt.xlabel('Epochs')\n",
    "plt.ylabel('Loss')\n",
    "plt.title('Training and Validation Losses')\n",
    "plt.legend()\n",
    "plt.show()"
   ]
  },
  {
   "cell_type": "markdown",
   "metadata": {},
   "source": [
    "### Plot training accuracy and validation accuracy"
   ]
  },
  {
   "cell_type": "code",
   "execution_count": 148,
   "metadata": {},
   "outputs": [
    {
     "data": {
      "image/png": "[encoded data removed]",
      "text/plain": [
       "<Figure size 1000x500 with 1 Axes>"
      ]
     },
     "metadata": {},
     "output_type": "display_data"
    }
   ],
   "source": [
    "plt.figure(figsize=(10, 5))\n",
    "plt.plot(range(1, len(train_accuracies) + 1), train_accuracies, label='Train Accuracy')\n",
    "plt.plot(range(1, len(test_accuracies) + 1), test_accuracies, label='Valid Accuracy')\n",
    "plt.xlabel('Epoch')\n",
    "plt.ylabel('Accuracy')\n",
    "plt.title('Accuracy plot')\n",
    "plt.legend()\n",
    "plt.show()"
   ]
  },
  {
   "cell_type": "code",
   "execution_count": 154,
   "metadata": {},
   "outputs": [
    {
     "name": "stdout",
     "output_type": "stream",
     "text": [
      "Classification Report:\n",
      "              precision    recall  f1-score   support\n",
      "\n",
      "           0       1.00      0.99      0.99     11390\n",
      "           1       0.39      0.81      0.53        81\n",
      "\n",
      "    accuracy                           0.99     11471\n",
      "   macro avg       0.69      0.90      0.76     11471\n",
      "weighted avg       0.99      0.99      0.99     11471\n",
      "\n"
     ]
    }
   ],
   "source": [
    "print(\"Classification Report:\")\n",
    "print(classification_report(y_test, test_pred))\n"
   ]
  },
  {
   "cell_type": "markdown",
   "metadata": {},
   "source": [
    "### Conclusion::::"
   ]
  },
  {
   "cell_type": "markdown",
   "metadata": {},
   "source": [
    "So, We build a neural network for the classification of the transaction as fraud and non fraud using pytorch. We also balanced the dataset as it was imbalanced by the high frequecy of the non-fraud data. After Epoch 50; We achieved Training Loss: 0.15168029069900513, validation Loss: 0.10378885269165039, Training Accuracy: 0.9489807138301849, validation Accuracy: 0.9896260134251591. We also did the plot for the loss and accuracy on the trainning and validation dataset. Both shows the similar pattern on both dataset. Overall, we have 99% accuracy of the model. The precision for class 0 is shown 100% whilst it has shown 39% for 1."
   ]
  }
 ],
 "metadata": {
  "kernelspec": {
   "display_name": "Python 3",
   "language": "python",
   "name": "python3"
  },
  "language_info": {
   "codemirror_mode": {
    "name": "ipython",
    "version": 3
   },
   "file_extension": ".py",
   "mimetype": "text/x-python",
   "name": "python",
   "nbconvert_exporter": "python",
   "pygments_lexer": "ipython3",
   "version": "3.11.7"
  }
 },
 "nbformat": 4,
 "nbformat_minor": 2
}
